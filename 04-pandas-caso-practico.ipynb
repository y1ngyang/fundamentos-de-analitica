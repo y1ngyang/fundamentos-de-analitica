{
 "cells": [
  {
   "cell_type": "markdown",
   "metadata": {},
   "source": [
    "Procesamiento de datos usando Pandas (Caso Práctico) \n",
    "===\n",
    "\n",
    "**Juan David Velásquez Henao**  \n",
    "jdvelasq@unal.edu.co   \n",
    "Universidad Nacional de Colombia, Sede Medellín  \n",
    "Facultad de Minas  \n",
    "Medellín, Colombia\n",
    "\n",
    "---\n",
    "\n",
    "Haga click [aquí](https://github.com/jdvelasq/fundamentos-de-analitica/blob/master/04-pandas-caso-practico.ipynb) para acceder a la última versión online.\n",
    "\n",
    "Haga click [aquí](http://nbviewer.jupyter.org/github/jdvelasq/IPython-for-data-science/blob/master/04-pandas-caso-practico.ipynb) para ver la última versión online en `nbviewer`. \n",
    "\n",
    "---\n",
    "[Licencia](https://github.com/jdvelasq/fundamentos-de-analitica/blob/master/LICENCIA.txt)  \n",
    "[Readme](https://github.com/jdvelasq/fundamentos-de-analitica/blob/master/readme.md)"
   ]
  },
  {
   "cell_type": "markdown",
   "metadata": {},
   "source": [
    "El archivo 'files/indicadores-mundiales.csv' contiene información sobre distintos indicadores económicos. Se desean construir indicadores a partir de la información contenida."
   ]
  },
  {
   "cell_type": "markdown",
   "metadata": {},
   "source": [
    "En este caso práctico se usará la librería pandas de Python, la cual contiene funcionalidades que permiten emular muchos de los comandos del lenguaje SQL."
   ]
  },
  {
   "cell_type": "code",
   "execution_count": null,
   "metadata": {},
   "outputs": [],
   "source": [
    "data = open('files/indicadores-mundiales.csv', mode='r', encoding='latin-1', ).readlines()\n",
    "data = [line.replace(' ', '_') for line in data]\n",
    "data = [line[:-1] for line in data]\n",
    "data = [line.split(';') for line in data]\n",
    "data = [data[0]] + [[x.replace('.', '')  for x in line]  for line in data[1:]]\n",
    "data = [data[0]] + [[x.replace('$', '')  for x in line]  for line in data[1:]]\n",
    "data = [data[0]] + [[x.replace('%', '')  for x in line]  for line in data[1:]]\n",
    "data = [data[0]] + [[x.replace(',', '.') for x in line]  for line in data[1:]]\n",
    "data = [data[0]] + [[float(x) if x.replace('.', '').isdigit() else x for x in line]  for line in data[1:]]\n",
    "\n",
    "\n",
    "data[0:3]"
   ]
  },
  {
   "cell_type": "code",
   "execution_count": null,
   "metadata": {
    "scrolled": false
   },
   "outputs": [],
   "source": [
    "nombres_campos = data[0]\n",
    "\n",
    "datadir = {}\n",
    "\n",
    "for icampo, campo in enumerate(nombres_campos):\n",
    "    columna = []\n",
    "    for line in data[1:]:\n",
    "        columna += [line[icampo]]\n",
    "    datadir[campo] = columna.copy()\n",
    "   "
   ]
  },
  {
   "cell_type": "code",
   "execution_count": null,
   "metadata": {
    "scrolled": false
   },
   "outputs": [],
   "source": [
    "datadir['Region'][0:10]"
   ]
  },
  {
   "cell_type": "code",
   "execution_count": null,
   "metadata": {},
   "outputs": [],
   "source": [
    "datadir.keys()"
   ]
  },
  {
   "cell_type": "code",
   "execution_count": null,
   "metadata": {},
   "outputs": [],
   "source": [
    "print(\"Nombres de las columnas\")\n",
    "print(\"--------------------------\")\n",
    "for colname in datadir.keys():\n",
    "    print(\"  \", colname)"
   ]
  },
  {
   "cell_type": "code",
   "execution_count": null,
   "metadata": {
    "collapsed": true
   },
   "outputs": [],
   "source": []
  },
  {
   "cell_type": "markdown",
   "metadata": {},
   "source": [
    "# Python STL"
   ]
  },
  {
   "cell_type": "code",
   "execution_count": null,
   "metadata": {},
   "outputs": [],
   "source": [
    "##\n",
    "## Lea el archivo en formato CSV.\n",
    "##\n",
    "data = open('files/indicadores-mundiales.csv', mode='r', encoding='latin-1', ).readlines()\n",
    "data = [line[:-1] for line in data]\n",
    "data = [line.split(';') for line in data]\n",
    "data = [data[0]] + [[x.replace('.', '')  for x in line]  for line in data[1:]]\n",
    "data = [data[0]] + [[x.replace('$', '')  for x in line]  for line in data[1:]]\n",
    "data = [data[0]] + [[x.replace('%', '')  for x in line]  for line in data[1:]]\n",
    "data = [data[0]] + [[x.replace(',', '.') for x in line]  for line in data[1:]]\n",
    "data = [[float(x) if x.replace('.', '').isdigit() else x for x in line]  for line in data[1:]]\n",
    "data[0:3]"
   ]
  },
  {
   "cell_type": "code",
   "execution_count": null,
   "metadata": {},
   "outputs": [],
   "source": [
    "##\n",
    "## obtener un listado de los paises (nombres únicos)\n",
    "##\n",
    "paises = set([line[11] for line in data])\n",
    "paises = [pais for pais in paises]"
   ]
  },
  {
   "cell_type": "code",
   "execution_count": null,
   "metadata": {},
   "outputs": [],
   "source": [
    "max([len(pais) for pais in paises])"
   ]
  },
  {
   "cell_type": "code",
   "execution_count": null,
   "metadata": {
    "scrolled": true
   },
   "outputs": [],
   "source": [
    "[pais for pais in paises if len(pais) == 40]"
   ]
  },
  {
   "cell_type": "code",
   "execution_count": null,
   "metadata": {},
   "outputs": [],
   "source": [
    "poblacion = [line[15] for line in data]\n",
    "p = [posicion for posicion, valor in enumerate(poblacion) if valor == max(poblacion)]"
   ]
  },
  {
   "cell_type": "code",
   "execution_count": null,
   "metadata": {},
   "outputs": [],
   "source": [
    "paises = [line[11] for line in data]\n",
    "[paises[index] for index in p]"
   ]
  },
  {
   "cell_type": "code",
   "execution_count": null,
   "metadata": {
    "scrolled": false
   },
   "outputs": [],
   "source": [
    "##\n",
    "## forma alternativa de leerlo\n",
    "##\n",
    "import csv\n",
    "data = []\n",
    "with open('files/indicadores-mundiales.csv', encoding='latin-1') as csvfile:\n",
    "    myreader = csv.reader(csvfile, delimiter=';', quotechar='\"')\n",
    "    for row in myreader:\n",
    "        data.append(row)\n",
    "data[0:5]"
   ]
  },
  {
   "cell_type": "code",
   "execution_count": null,
   "metadata": {
    "collapsed": true
   },
   "outputs": [],
   "source": [
    "##\n",
    "## Imprima los nombres de las columnas.\n",
    "##\n"
   ]
  },
  {
   "cell_type": "code",
   "execution_count": null,
   "metadata": {
    "collapsed": true
   },
   "outputs": [],
   "source": [
    "##\n",
    "## Imprima un listado de los continentes.\n",
    "##\n"
   ]
  },
  {
   "cell_type": "code",
   "execution_count": null,
   "metadata": {
    "collapsed": true
   },
   "outputs": [],
   "source": [
    "##\n",
    "## ¿Cuáles países tienen un uso de celulares diferente de cero?\n",
    "##\n"
   ]
  },
  {
   "cell_type": "markdown",
   "metadata": {},
   "source": [
    "# Usando Pandas"
   ]
  },
  {
   "cell_type": "code",
   "execution_count": null,
   "metadata": {
    "collapsed": true
   },
   "outputs": [],
   "source": [
    "import pandas as pd"
   ]
  },
  {
   "cell_type": "code",
   "execution_count": null,
   "metadata": {
    "collapsed": true
   },
   "outputs": [],
   "source": [
    "##\n",
    "## Lea el archivo en formato CSV.\n",
    "##\n"
   ]
  },
  {
   "cell_type": "code",
   "execution_count": null,
   "metadata": {
    "collapsed": true
   },
   "outputs": [],
   "source": [
    "## \n",
    "## Cuántos registros tiene el archivo?\n",
    "##\n"
   ]
  },
  {
   "cell_type": "code",
   "execution_count": null,
   "metadata": {
    "collapsed": true
   },
   "outputs": [],
   "source": [
    "##\n",
    "## Cuántos registros nulos tiene el archivo?\n",
    "##\n"
   ]
  },
  {
   "cell_type": "code",
   "execution_count": null,
   "metadata": {
    "collapsed": true
   },
   "outputs": [],
   "source": [
    "##\n",
    "## Cuántos registros tienen información completa?\n",
    "##\n"
   ]
  },
  {
   "cell_type": "code",
   "execution_count": null,
   "metadata": {
    "collapsed": true
   },
   "outputs": [],
   "source": [
    "##\n",
    "## Imprima los nombres de las columnas.\n",
    "##\n"
   ]
  },
  {
   "cell_type": "code",
   "execution_count": null,
   "metadata": {
    "collapsed": true
   },
   "outputs": [],
   "source": [
    "##\n",
    "## Organice la tabla por gastos en salud (per capita).\n",
    "##\n"
   ]
  },
  {
   "cell_type": "code",
   "execution_count": null,
   "metadata": {
    "collapsed": true
   },
   "outputs": [],
   "source": [
    "##\n",
    "## Imprima un listado de los continentes.\n",
    "##\n"
   ]
  },
  {
   "cell_type": "code",
   "execution_count": null,
   "metadata": {
    "collapsed": true
   },
   "outputs": [],
   "source": [
    "##\n",
    "## Imprima el listado de los países que empiezan por la letra m.\n",
    "##\n"
   ]
  },
  {
   "cell_type": "code",
   "execution_count": null,
   "metadata": {
    "collapsed": true
   },
   "outputs": [],
   "source": [
    "##\n",
    "## ¿Cuáles países tienen un uso de celulares diferente de cero?\n",
    "##\n"
   ]
  },
  {
   "cell_type": "code",
   "execution_count": null,
   "metadata": {
    "collapsed": true
   },
   "outputs": [],
   "source": [
    "##\n",
    "## ¿Cuáles son los países con menor uso de energía?\n",
    "##\n"
   ]
  },
  {
   "cell_type": "code",
   "execution_count": null,
   "metadata": {
    "collapsed": true
   },
   "outputs": [],
   "source": [
    "##\n",
    "## ¿Cuáles son los países con mayor uso de energía?\n",
    "##\n"
   ]
  },
  {
   "cell_type": "code",
   "execution_count": null,
   "metadata": {
    "collapsed": true
   },
   "outputs": [],
   "source": [
    "##\n",
    "## ¿Cuánto son las emisiones de CO2 por continente?\n",
    "##\n"
   ]
  },
  {
   "cell_type": "code",
   "execution_count": null,
   "metadata": {
    "collapsed": true
   },
   "outputs": [],
   "source": [
    "##\n",
    "## ¿Cuánto es el promedio de las emisiones de CO2 por continente?\n",
    "##\n"
   ]
  },
  {
   "cell_type": "code",
   "execution_count": null,
   "metadata": {
    "collapsed": true
   },
   "outputs": [],
   "source": [
    "##\n",
    "## Comparé la esperanza de vida de hombres y mujeres\n",
    "## por continente.\n",
    "##\n"
   ]
  },
  {
   "cell_type": "code",
   "execution_count": null,
   "metadata": {
    "collapsed": true
   },
   "outputs": [],
   "source": [
    "##\n",
    "## ¿Cuál es el país con más gastos de salud por continente?\n",
    "##\n"
   ]
  },
  {
   "cell_type": "code",
   "execution_count": null,
   "metadata": {
    "collapsed": true
   },
   "outputs": [],
   "source": [
    "##\n",
    "## ¿Cuál es el país con mayor cantidad de poblacion entre 0-14 años?\n",
    "##"
   ]
  },
  {
   "cell_type": "code",
   "execution_count": null,
   "metadata": {
    "collapsed": true
   },
   "outputs": [],
   "source": [
    "##\n",
    "## ¿Cuál son los cinco países con menor cantidad de población entre 0 y 64 años?\n",
    "##\n"
   ]
  },
  {
   "cell_type": "code",
   "execution_count": null,
   "metadata": {
    "collapsed": true
   },
   "outputs": [],
   "source": [
    "##\n",
    "## ¿Cuáles son los países con mayor población rural por contiente?\n",
    "##\n"
   ]
  },
  {
   "cell_type": "code",
   "execution_count": null,
   "metadata": {
    "collapsed": true
   },
   "outputs": [],
   "source": []
  },
  {
   "cell_type": "markdown",
   "metadata": {},
   "source": [
    "---"
   ]
  },
  {
   "cell_type": "markdown",
   "metadata": {},
   "source": [
    "Procesamiento de datos usando Pandas (Caso Práctico) \n",
    "===\n",
    "\n",
    "**Juan David Velásquez Henao**  \n",
    "jdvelasq@unal.edu.co   \n",
    "Universidad Nacional de Colombia, Sede Medellín  \n",
    "Facultad de Minas  \n",
    "Medellín, Colombia\n",
    "\n",
    "---\n",
    "\n",
    "Haga click [aquí](https://github.com/jdvelasq/fundamentos-de-analitica/blob/master/04-pandas-caso-practico.ipynb) para acceder a la última versión online.\n",
    "\n",
    "Haga click [aquí](http://nbviewer.jupyter.org/github/jdvelasq/IPython-for-data-science/blob/master/04-pandas-caso-practico.ipynb) para ver la última versión online en `nbviewer`. \n",
    "\n",
    "---\n",
    "[Licencia](https://github.com/jdvelasq/fundamentos-de-analitica/blob/master/LICENCIA.txt)  \n",
    "[Readme](https://github.com/jdvelasq/fundamentos-de-analitica/blob/master/readme.md)"
   ]
  }
 ],
 "metadata": {
  "kernelspec": {
   "display_name": "Python 3",
   "language": "python",
   "name": "python3"
  },
  "language_info": {
   "codemirror_mode": {
    "name": "ipython",
    "version": 3
   },
   "file_extension": ".py",
   "mimetype": "text/x-python",
   "name": "python",
   "nbconvert_exporter": "python",
   "pygments_lexer": "ipython3",
   "version": "3.6.3"
  }
 },
 "nbformat": 4,
 "nbformat_minor": 2
}
